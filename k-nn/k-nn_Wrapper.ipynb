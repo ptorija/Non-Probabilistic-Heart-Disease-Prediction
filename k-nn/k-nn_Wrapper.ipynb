{
 "cells": [
  {
   "cell_type": "markdown",
   "metadata": {},
   "source": [
    "Load the data"
   ]
  },
  {
   "cell_type": "code",
   "execution_count": 16,
   "metadata": {},
   "outputs": [],
   "source": [
    "import pandas as pd\n",
    "\n",
    "data = pd.read_csv('../data/heart_2020_cleaned.csv')"
   ]
  },
  {
   "cell_type": "markdown",
   "metadata": {},
   "source": [
    "Separate between objective and independent variables"
   ]
  },
  {
   "cell_type": "code",
   "execution_count": 17,
   "metadata": {},
   "outputs": [],
   "source": [
    "char = data.drop(columns=['HeartDisease'])\n",
    "obj = data['HeartDisease']"
   ]
  },
  {
   "cell_type": "markdown",
   "metadata": {},
   "source": [
    "Dividing between test and train data"
   ]
  },
  {
   "cell_type": "code",
   "execution_count": 18,
   "metadata": {},
   "outputs": [],
   "source": [
    "from sklearn.model_selection import train_test_split\n",
    "\n",
    "char_train, char_test, obj_train, obj_test = train_test_split(char, obj, test_size=0.2, random_state=42)"
   ]
  },
  {
   "cell_type": "markdown",
   "metadata": {},
   "source": [
    "Normalize variables"
   ]
  },
  {
   "cell_type": "code",
   "execution_count": 19,
   "metadata": {},
   "outputs": [],
   "source": [
    "from sklearn.preprocessing import MinMaxScaler\n",
    "\n",
    "columns_to_normalize = data.select_dtypes(include=['float64']).columns\n",
    "scaler = MinMaxScaler()\n",
    "data[columns_to_normalize] = scaler.fit_transform(data[columns_to_normalize])"
   ]
  },
  {
   "cell_type": "code",
   "execution_count": 20,
   "metadata": {},
   "outputs": [
    {
     "name": "stdout",
     "output_type": "stream",
     "text": [
      "Selected Features: [8], Accuracy: 0.69\n",
      "Selected Features: [8, 11], Accuracy: 0.74\n",
      "Selected Features: [8, 11, 7], Accuracy: 0.75\n",
      "Selected Features: [8, 11, 7, 20], Accuracy: 0.76\n",
      "Selected Features: [8, 11, 7, 20, 9], Accuracy: 0.76\n",
      "Selected Features: [8, 11, 7, 20, 9, 1], Accuracy: 0.77\n",
      "Selected Features: [8, 11, 7, 20, 9, 1, 16], Accuracy: 0.77\n",
      "Selected Features: [8, 11, 7, 20, 9, 1, 16, 6], Accuracy: 0.77\n",
      "Selected Features: [8, 11, 7, 20, 9, 1, 16, 6, 13], Accuracy: 0.77\n",
      "Selected Features: [8, 11, 7, 20, 9, 1, 16, 6, 13, 2], Accuracy: 0.77\n",
      "Selected Features: [8, 11, 7, 20, 9, 1, 16, 6, 13, 2, 14], Accuracy: 0.77\n",
      "Selected Features: [8, 11, 7, 20, 9, 1, 16, 6, 13, 2, 14, 17], Accuracy: 0.77\n",
      "Selected Features: [8, 11, 7, 20, 9, 1, 16, 6, 13, 2, 14, 17, 19], Accuracy: 0.77\n",
      "Selected Features: [8, 11, 7, 20, 9, 1, 16, 6, 13, 2, 14, 17, 19, 18], Accuracy: 0.77\n",
      "Selected Features: [8, 11, 7, 20, 9, 1, 16, 6, 13, 2, 14, 17, 19, 18, 10], Accuracy: 0.77\n",
      "Selected Features: [8, 11, 7, 20, 9, 1, 16, 6, 13, 2, 14, 17, 19, 18, 10, 3], Accuracy: 0.77\n",
      "Selected Features: [8, 11, 7, 20, 9, 1, 16, 6, 13, 2, 14, 17, 19, 18, 10, 3, 15], Accuracy: 0.77\n",
      "Selected Features: [8, 11, 7, 20, 9, 1, 16, 6, 13, 2, 14, 17, 19, 18, 10, 3, 15, 12], Accuracy: 0.77\n",
      "Selected Features: [8, 11, 7, 20, 9, 1, 16, 6, 13, 2, 14, 17, 19, 18, 10, 3, 15, 12, 4], Accuracy: 0.76\n",
      "Selected Features: [8, 11, 7, 20, 9, 1, 16, 6, 13, 2, 14, 17, 19, 18, 10, 3, 15, 12, 4, 5], Accuracy: 0.76\n",
      "Selected Features: [8, 11, 7, 20, 9, 1, 16, 6, 13, 2, 14, 17, 19, 18, 10, 3, 15, 12, 4, 5, 0], Accuracy: 0.75\n",
      "Final Selected Features: [8, 11, 7, 20, 9, 1, 16, 6, 13, 2, 14, 17, 19, 18, 10, 3, 15, 12, 4, 5, 0]\n"
     ]
    }
   ],
   "source": [
    "from sklearn.neighbors import KNeighborsClassifier\n",
    "from sklearn.metrics import accuracy_score\n",
    "\n",
    "selected_features = []\n",
    "\n",
    "k = 50\n",
    "knn_model = KNeighborsClassifier(n_neighbors=k)\n",
    "\n",
    "# Evaluate the features chosen\n",
    "def evaluate_model(features):\n",
    "    knn_model.fit(char_train.iloc[:, features], obj_train)\n",
    "    predictions = knn_model.predict(char_test.iloc[:, features])\n",
    "    accuracy = accuracy_score(obj_test, predictions)\n",
    "    return accuracy\n",
    "\n",
    "# Bucle Forward Selection\n",
    "while len(selected_features) < char_train.shape[1]:\n",
    "    best_accuracy = 0\n",
    "    best_feature = None\n",
    "    \n",
    "    # Iterate over the non selected features\n",
    "    for feature_index in range(char_train.shape[1]):\n",
    "        if feature_index not in selected_features:\n",
    "            current_features = selected_features + [feature_index]\n",
    "            accuracy = evaluate_model(current_features)\n",
    "            \n",
    "            # If the new precision is better than the last precision, updates it\n",
    "            if accuracy > best_accuracy:\n",
    "                best_accuracy = accuracy\n",
    "                best_feature = feature_index\n",
    "    \n",
    "    # Adds the best feature to the other best ones\n",
    "    selected_features.append(best_feature)\n",
    "    \n",
    "    # Progress\n",
    "    print(f\"Selected Features: {selected_features}, Accuracy: {best_accuracy:.2f}\")\n",
    "\n",
    "print(\"Final Selected Features:\", selected_features)\n"
   ]
  }
 ],
 "metadata": {
  "kernelspec": {
   "display_name": "venv",
   "language": "python",
   "name": "python3"
  },
  "language_info": {
   "codemirror_mode": {
    "name": "ipython",
    "version": 3
   },
   "file_extension": ".py",
   "mimetype": "text/x-python",
   "name": "python",
   "nbconvert_exporter": "python",
   "pygments_lexer": "ipython3",
   "version": "3.11.2"
  }
 },
 "nbformat": 4,
 "nbformat_minor": 2
}
