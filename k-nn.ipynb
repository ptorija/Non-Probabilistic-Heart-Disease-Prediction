{
 "cells": [
  {
   "cell_type": "markdown",
   "metadata": {},
   "source": [
    "- Load the data"
   ]
  },
  {
   "cell_type": "code",
   "execution_count": 18,
   "metadata": {},
   "outputs": [],
   "source": [
    "import pandas as pd\n",
    "\n",
    "data = pd.read_csv('data/heart_2020_cleaned.csv')"
   ]
  },
  {
   "cell_type": "markdown",
   "metadata": {},
   "source": [
    "- Transform the data"
   ]
  },
  {
   "cell_type": "code",
   "execution_count": 19,
   "metadata": {},
   "outputs": [],
   "source": [
    "data['HeartDisease'] = data['HeartDisease'].replace({'Yes': 1, 'No': 0})\n",
    "\n",
    "data['Smoking'] = data['Smoking'].replace({'Yes': 1, 'No': 0})\n",
    "\n",
    "data['AlcoholDrinking'] = data['AlcoholDrinking'].replace({'Yes': 1, 'No': 0})\n",
    "\n",
    "data['Stroke'] = data['Stroke'].replace({'Yes': 1, 'No': 0})\n",
    "\n",
    "data['DiffWalking'] = data['DiffWalking'].replace({'Yes': 1, 'No': 0})\n",
    "sex_mapping = {\n",
    "    'Male': 0,\n",
    "    'Female': 1\n",
    "}\n",
    "data['Sex'] = data['Sex'].map(sex_mapping)\n",
    "\n",
    "age_mapping = {\n",
    "    '18-24': 21,\n",
    "    '25-29': 27,\n",
    "    '30-34': 32,\n",
    "    '35-39': 37,\n",
    "    '40-44': 42,\n",
    "    '45-49': 47,\n",
    "    '50-54': 52,\n",
    "    '55-59': 57,\n",
    "    '60-64': 62,\n",
    "    '65-69': 67,\n",
    "    '70-74': 72,\n",
    "    '75-79': 77,\n",
    "    '80 or older': 85\n",
    "}\n",
    "data['AgeCategory'] = data['AgeCategory'].map(age_mapping)\n",
    "\n",
    "data = data[data['Race'] != 'American Indian/Alaskan Native']\n",
    "data = pd.get_dummies(data, columns=['Race'], prefix=['Race'])\n",
    "\n",
    "data = data[data['Diabetic'].isin(['Yes', 'No'])]\n",
    "data['Diabetic'] = data['Diabetic'].replace({'Yes': 1, 'No': 0})\n",
    "\n",
    "data['PhysicalActivity'] = data['PhysicalActivity'].replace({'Yes': 1, 'No': 0})\n",
    "\n",
    "health_mapping = {\n",
    "    'Excellent': 5,\n",
    "    'Very good': 4,\n",
    "    'Good': 3,\n",
    "    'Fair': 2,\n",
    "    'Poor': 1\n",
    "}\n",
    "data['GenHealth'] = data['GenHealth'].map(health_mapping)\n",
    "\n",
    "data['Asthma'] = data['Asthma'].replace({'Yes': 1, 'No': 0})\n",
    "\n",
    "data['KidneyDisease'] = data['KidneyDisease'].replace({'Yes': 1, 'No': 0})\n",
    "\n",
    "data['SkinCancer'] = data['SkinCancer'].replace({'Yes': 1, 'No': 0})"
   ]
  },
  {
   "cell_type": "markdown",
   "metadata": {},
   "source": [
    "- Separate between objective and independent variables"
   ]
  },
  {
   "cell_type": "code",
   "execution_count": null,
   "metadata": {},
   "outputs": [],
   "source": [
    "char = data.drop(columns=['HeartDisease'])\n",
    "obj = data['HeartDisease']"
   ]
  },
  {
   "cell_type": "markdown",
   "metadata": {},
   "source": [
    "- Divide the data between train and test data"
   ]
  },
  {
   "cell_type": "code",
   "execution_count": null,
   "metadata": {},
   "outputs": [],
   "source": [
    "from sklearn.model_selection import train_test_split\n",
    "\n",
    "char_train, char_test, obj_train, obj_test = train_test_split(char, obj, test_size=0.2, random_state=42)\n"
   ]
  },
  {
   "cell_type": "markdown",
   "metadata": {},
   "source": [
    "- Normalize variables"
   ]
  },
  {
   "cell_type": "code",
   "execution_count": null,
   "metadata": {},
   "outputs": [],
   "source": [
    "from sklearn.preprocessing import MinMaxScaler\n",
    "\n",
    "columns_to_normalize = data.select_dtypes(include=['float64']).columns\n",
    "scaler = MinMaxScaler()\n",
    "data[columns_to_normalize] = scaler.fit_transform(data[columns_to_normalize])"
   ]
  },
  {
   "cell_type": "code",
   "execution_count": null,
   "metadata": {},
   "outputs": [
    {
     "name": "stdout",
     "output_type": "stream",
     "text": [
      "   HeartDisease       BMI  Smoking  AlcoholDrinking  Stroke  PhysicalHealth  \\\n",
      "0             0  0.055294        1                0       0        0.100000   \n",
      "1             0  0.100447        0                0       1        0.000000   \n",
      "2             0  0.175782        1                0       0        0.666667   \n",
      "3             0  0.147169        0                0       0        0.000000   \n",
      "4             0  0.141132        0                0       0        0.933333   \n",
      "\n",
      "   MentalHealth  DiffWalking  Sex  AgeCategory  ...  GenHealth  SleepTime  \\\n",
      "0           1.0            0    1           57  ...          4   0.173913   \n",
      "1           0.0            0    1           85  ...          4   0.260870   \n",
      "2           1.0            0    0           67  ...          2   0.304348   \n",
      "3           0.0            0    1           77  ...          3   0.217391   \n",
      "4           0.0            1    1           42  ...          4   0.304348   \n",
      "\n",
      "   Asthma  KidneyDisease  SkinCancer  Race_Asian  Race_Black  Race_Hispanic  \\\n",
      "0       1              0           1       False       False          False   \n",
      "1       0              0           0       False       False          False   \n",
      "2       1              0           0       False       False          False   \n",
      "3       0              0           1       False       False          False   \n",
      "4       0              0           0       False       False          False   \n",
      "\n",
      "   Race_Other  Race_White  \n",
      "0       False        True  \n",
      "1       False        True  \n",
      "2       False        True  \n",
      "3       False        True  \n",
      "4       False        True  \n",
      "\n",
      "[5 rows x 22 columns]\n"
     ]
    }
   ],
   "source": [
    "print(data.head())"
   ]
  },
  {
   "cell_type": "markdown",
   "metadata": {},
   "source": [
    "- K-nn model"
   ]
  },
  {
   "cell_type": "code",
   "execution_count": null,
   "metadata": {},
   "outputs": [
    {
     "name": "stdout",
     "output_type": "stream",
     "text": [
      "Accuracy of the k-NN model: 0.91\n"
     ]
    }
   ],
   "source": [
    "from sklearn.neighbors import KNeighborsClassifier\n",
    "\n",
    "k = 20  \n",
    "knn_model = KNeighborsClassifier(n_neighbors=k)\n",
    "\n",
    "# Entrenamiento del modelo\n",
    "knn_model.fit(char_train, obj_train)\n",
    "\n",
    "# Evaluación del modelo\n",
    "score = knn_model.score(char_test, obj_test)\n",
    "print(f'Accuracy of the k-NN model: {score:.2f}')\n"
   ]
  }
 ],
 "metadata": {
  "kernelspec": {
   "display_name": "venv",
   "language": "python",
   "name": "python3"
  },
  "language_info": {
   "codemirror_mode": {
    "name": "ipython",
    "version": 3
   },
   "file_extension": ".py",
   "mimetype": "text/x-python",
   "name": "python",
   "nbconvert_exporter": "python",
   "pygments_lexer": "ipython3",
   "version": "3.11.6"
  },
  "orig_nbformat": 4
 },
 "nbformat": 4,
 "nbformat_minor": 2
}
