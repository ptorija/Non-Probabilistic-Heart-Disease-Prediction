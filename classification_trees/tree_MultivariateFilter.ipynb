{
 "cells": [
  {
   "cell_type": "markdown",
   "metadata": {},
   "source": [
    "Load the data"
   ]
  },
  {
   "cell_type": "code",
   "execution_count": 1,
   "metadata": {},
   "outputs": [],
   "source": [
    "import pandas as pd\n",
    "\n",
    "data = pd.read_csv('../data/heart_2020_cleaned.csv')"
   ]
  },
  {
   "cell_type": "markdown",
   "metadata": {},
   "source": [
    "Normalize variables"
   ]
  },
  {
   "cell_type": "code",
   "execution_count": 2,
   "metadata": {},
   "outputs": [],
   "source": [
    "from sklearn.preprocessing import MinMaxScaler\n",
    "\n",
    "columns_to_normalize = data.select_dtypes(include=['float64']).columns\n",
    "scaler = MinMaxScaler()\n",
    "data[columns_to_normalize] = scaler.fit_transform(data[columns_to_normalize])\n"
   ]
  },
  {
   "cell_type": "markdown",
   "metadata": {},
   "source": [
    "Separate between objective and independent variables"
   ]
  },
  {
   "cell_type": "code",
   "execution_count": 3,
   "metadata": {},
   "outputs": [],
   "source": [
    "char = data.drop(columns=['HeartDisease'])\n",
    "obj = data['HeartDisease']"
   ]
  },
  {
   "cell_type": "markdown",
   "metadata": {},
   "source": [
    "Correlation-based feature selection"
   ]
  },
  {
   "cell_type": "code",
   "execution_count": 4,
   "metadata": {},
   "outputs": [
    {
     "name": "stdout",
     "output_type": "stream",
     "text": [
      "AgeCategory    0.445112\n",
      "GenHealth     -0.402338\n",
      "dtype: float64\n"
     ]
    }
   ],
   "source": [
    "correlation_threshold = 0.3\n",
    "\n",
    "# Calculate the correlation with the target variable\n",
    "correlation_matrix = char.corrwith(obj)\n",
    "\n",
    "# Select the features with correlation greater than the threshold\n",
    "relevant_features = correlation_matrix[abs(correlation_matrix) > correlation_threshold]\n",
    "print(relevant_features)\n",
    "\n",
    "# Include only the relevant features\n",
    "char_relevant = char[relevant_features.index]\n"
   ]
  },
  {
   "cell_type": "markdown",
   "metadata": {},
   "source": [
    "Divide the data between train and test data"
   ]
  },
  {
   "cell_type": "code",
   "execution_count": 5,
   "metadata": {},
   "outputs": [],
   "source": [
    "from sklearn.model_selection import train_test_split\n",
    "\n",
    "char_train, char_test, obj_train, obj_test = train_test_split(char_relevant, obj, test_size=0.2, random_state=42)\n"
   ]
  },
  {
   "cell_type": "markdown",
   "metadata": {},
   "source": [
    "Create a Random Forest model"
   ]
  },
  {
   "cell_type": "code",
   "execution_count": 6,
   "metadata": {},
   "outputs": [
    {
     "name": "stdout",
     "output_type": "stream",
     "text": [
      "Random Forest Results:\n",
      "Accuracy: 0.74\n",
      "Recall: 0.82\n",
      "F1-Score: 0.77\n"
     ]
    }
   ],
   "source": [
    "from sklearn.ensemble import RandomForestClassifier\n",
    "from sklearn.metrics import accuracy_score, recall_score, f1_score\n",
    "\n",
    "rf_model = RandomForestClassifier(n_estimators=100, random_state=42)\n",
    "\n",
    "rf_model.fit(char_train, obj_train)\n",
    "\n",
    "predictions = rf_model.predict(char_test)\n",
    "\n",
    "accuracy = accuracy_score(obj_test, predictions)\n",
    "recall = recall_score(obj_test, predictions)\n",
    "f1 = f1_score(obj_test, predictions)\n",
    "\n",
    "print(f'Random Forest Results:')\n",
    "print(f'Accuracy: {accuracy:.2f}')\n",
    "print(f'Recall: {recall:.2f}')\n",
    "print(f'F1-Score: {f1:.2f}')"
   ]
  }
 ],
 "metadata": {
  "kernelspec": {
   "display_name": "venv",
   "language": "python",
   "name": "python3"
  },
  "language_info": {
   "codemirror_mode": {
    "name": "ipython",
    "version": 3
   },
   "file_extension": ".py",
   "mimetype": "text/x-python",
   "name": "python",
   "nbconvert_exporter": "python",
   "pygments_lexer": "ipython3",
   "version": "3.11.2"
  }
 },
 "nbformat": 4,
 "nbformat_minor": 2
}
